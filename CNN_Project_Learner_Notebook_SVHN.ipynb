{
 "cells": [
  {
   "cell_type": "markdown",
   "metadata": {
    "id": "Q91KqmCRu64D"
   },
   "source": [
    "# **Convolutional Neural Networks Project: Street View Housing Number Digit Recognition**\n",
    "\n",
    "# **Marks: 30**\n",
    "\n",
    "Welcome to the project on classification using Convolutional Neural Networks. We will continue to work with the Street View Housing Numbers (SVHN) image dataset for this project.\n",
    "\n",
    "--------------\n",
    "## **Context** \n",
    "--------------\n",
    "\n",
    "One of the most interesting tasks in deep learning is to recognize objects in natural scenes. The ability to process visual information using machine learning algorithms can be very useful as demonstrated in various applications.\n",
    "\n",
    "The SVHN dataset contains over 600,000 labeled digits cropped from street-level photos. It is one of the most popular image recognition datasets. It has been used in neural networks created by Google to improve the map quality by automatically transcribing the address numbers from a patch of pixels. The transcribed number with a known street address helps pinpoint the location of the building it represents. \n",
    "\n",
    "----------------\n",
    "## **Objective**\n",
    "----------------\n",
    "\n",
    "To build a CNN model that can recognize the digits in the images.\n",
    "\n",
    "-------------\n",
    "## **Dataset**\n",
    "-------------\n",
    "Here, we will use a subset of the original data to save some computation time. The dataset is provided as a .h5 file. The basic preprocessing steps have been applied on the dataset."
   ]
  },
  {
   "cell_type": "markdown",
   "metadata": {
    "id": "8z2Z7-OAs8QG"
   },
   "source": [
    "## **Mount the drive**\n",
    "\n",
    "Let us start by mounting the Google drive. You can run the below cell to mount the Google drive."
   ]
  },
  {
   "cell_type": "code",
   "execution_count": 49,
   "metadata": {
    "colab": {
     "base_uri": "https://localhost:8080/"
    },
    "id": "03lDyQUuef7z",
    "outputId": "842b0abe-f86a-46f6-906b-922800d8ee96"
   },
   "outputs": [
    {
     "name": "stdout",
     "output_type": "stream",
     "text": [
      "Drive already mounted at /content/drive; to attempt to forcibly remount, call drive.mount(\"/content/drive\", force_remount=True).\n"
     ]
    }
   ],
   "source": [
    "from google.colab import drive\n",
    "\n",
    "drive.mount('/content/drive')"
   ]
  },
  {
   "cell_type": "markdown",
   "metadata": {
    "id": "C8U3DUa3eNsT"
   },
   "source": [
    "## **Importing the necessary libraries**"
   ]
  },
  {
   "cell_type": "code",
   "execution_count": 50,
   "metadata": {
    "id": "-dVzeuF3eQx1"
   },
   "outputs": [],
   "source": [
    "import numpy as np\n",
    "\n",
    "import pandas as pd\n",
    "\n",
    "import matplotlib.pyplot as plt\n",
    "\n",
    "import seaborn as sns\n",
    "\n",
    "from sklearn.model_selection import train_test_split\n",
    "\n",
    "from sklearn.preprocessing import MinMaxScaler\n",
    "\n",
    "import tensorflow as tf\n",
    "\n",
    "from tensorflow.keras.models import Sequential\n",
    "\n",
    "from tensorflow.keras.layers import Dense, Conv2D, MaxPool2D, BatchNormalization, Dropout, Flatten, LeakyReLU\n",
    "\n",
    "from tensorflow.keras.losses import categorical_crossentropy\n",
    "\n",
    "from tensorflow.keras.optimizers import Adam\n",
    "\n",
    "from tensorflow.keras.utils import to_categorical"
   ]
  },
  {
   "cell_type": "markdown",
   "metadata": {
    "id": "ucnevGLoyKf_"
   },
   "source": [
    "**Let us check the version of tensorflow.**"
   ]
  },
  {
   "cell_type": "code",
   "execution_count": 51,
   "metadata": {
    "colab": {
     "base_uri": "https://localhost:8080/"
    },
    "id": "W5as47YxyJVk",
    "outputId": "573a74e9-ca81-4ff4-b78a-fc137d52ba22"
   },
   "outputs": [
    {
     "name": "stdout",
     "output_type": "stream",
     "text": [
      "2.9.2\n"
     ]
    }
   ],
   "source": [
    "print(tf.__version__)"
   ]
  },
  {
   "cell_type": "markdown",
   "metadata": {
    "id": "8lsux2ZwyTTR"
   },
   "source": [
    "## **Load the dataset**\n",
    "\n",
    "- Let us now load the dataset that is available as a .h5 file.\n",
    "- Split the data into the train and the test dataset."
   ]
  },
  {
   "cell_type": "code",
   "execution_count": 52,
   "metadata": {
    "id": "BApX9qgNsqV0",
    "scrolled": true
   },
   "outputs": [],
   "source": [
    "import h5py\n",
    "\n",
    "# Open the file as read only\n",
    "# User can make changes in the path as required\n",
    "\n",
    "h5f = h5py.File('/content/drive/MyDrive/SVHN_single_grey1.h5', 'r')\n",
    "\n",
    "# Load the the train and the test dataset\n",
    "\n",
    "X_train = h5f['X_train'][:]\n",
    "\n",
    "y_train = h5f['y_train'][:]\n",
    "\n",
    "X_test = h5f['X_test'][:]\n",
    "\n",
    "y_test = h5f['y_test'][:]\n",
    "\n",
    "\n",
    "# Close this file\n",
    "\n",
    "h5f.close()"
   ]
  },
  {
   "cell_type": "markdown",
   "metadata": {
    "id": "hVe0CYpUgj7w"
   },
   "source": [
    "Let's check the number of images in the training and the testing dataset."
   ]
  },
  {
   "cell_type": "code",
   "execution_count": 53,
   "metadata": {
    "colab": {
     "base_uri": "https://localhost:8080/"
    },
    "id": "y3lwKpOefkpA",
    "outputId": "620f4f05-5076-40fe-ceda-f5752d5aed3a"
   },
   "outputs": [
    {
     "data": {
      "text/plain": [
       "(42000, 18000)"
      ]
     },
     "execution_count": 53,
     "metadata": {},
     "output_type": "execute_result"
    }
   ],
   "source": [
    "len(X_train), len(X_test)"
   ]
  },
  {
   "cell_type": "markdown",
   "metadata": {
    "id": "akTUOfLlgwoM"
   },
   "source": [
    "**Observation:**\n",
    "- There are 42,000 images in the training data and 18,000 images in the testing data. "
   ]
  },
  {
   "cell_type": "markdown",
   "metadata": {
    "id": "kxODV6HKykuc"
   },
   "source": [
    "## **Visualizing images**\n",
    "\n",
    "- Use X_train to visualize the first 10 images.\n",
    "- Use Y_train to print the first 10 labels."
   ]
  },
  {
   "cell_type": "markdown",
   "metadata": {
    "id": "giALtffZKDNq"
   },
   "source": [
    "### **Question 1: Complete the below code to visualize the first 10 images in the dataset. (1 Mark)**"
   ]
  },
  {
   "cell_type": "code",
   "execution_count": 54,
   "metadata": {
    "colab": {
     "base_uri": "https://localhost:8080/",
     "height": 96
    },
    "id": "Bvsc8ytHsqWD",
    "outputId": "fd7cb2e4-64ed-4c5a-c5be-520eb3bcff75"
   },
   "outputs": [
    {
     "data": {
      "image/png": "[encoded data removed]",
      "text/plain": [
       "<Figure size 720x72 with 10 Axes>"
      ]
     },
     "metadata": {
      "needs_background": "light"
     },
     "output_type": "display_data"
    },
    {
     "name": "stdout",
     "output_type": "stream",
     "text": [
      "label for each of the above image: [2 6 7 4 4 0 3 0 7 3]\n"
     ]
    }
   ],
   "source": [
    "# Visualizing the first 10 images in the dataset and printing their labels\n",
    "\n",
    "%matplotlib inline\n",
    "\n",
    "import matplotlib.pyplot as plt\n",
    "\n",
    "plt.figure(figsize = (10, 1))\n",
    "\n",
    "for i in range(10):\n",
    "\n",
    "    plt.subplot(1, 10, i+1)\n",
    "    \n",
    "    plt.imshow(X_train[i], cmap = \"gray\")  # Write the function to visualize images\n",
    "\n",
    "    plt.axis('off')\n",
    "\n",
    "plt.show()\n",
    "\n",
    "print('label for each of the above image: %s' % (y_train[0:10]))"
   ]
  },
  {
   "cell_type": "markdown",
   "metadata": {
    "id": "kzoyeXHOy80N"
   },
   "source": [
    "## **Data preparation**\n",
    "\n",
    "- Print the shape and the array of pixels for the first image in the training dataset.\n",
    "- Reshape the train and the test dataset because we always have to give a 4D array as input to CNNs.\n",
    "- Normalize the train and the test dataset by dividing by 255.\n",
    "- Print the new shapes of the train and the test dataset.\n",
    "- One-hot encode the target variable."
   ]
  },
  {
   "cell_type": "code",
   "execution_count": 55,
   "metadata": {
    "colab": {
     "base_uri": "https://localhost:8080/"
    },
    "id": "NqndzQXng9rL",
    "outputId": "45ace49b-bcbc-4e23-93d5-333357496558"
   },
   "outputs": [
    {
     "name": "stdout",
     "output_type": "stream",
     "text": [
      "Shape: (32, 32)\n",
      "\n",
      "First image:\n",
      " [[ 33.0704  30.2601  26.852  ...  71.4471  58.2204  42.9939]\n",
      " [ 25.2283  25.5533  29.9765 ... 113.0209 103.3639  84.2949]\n",
      " [ 26.2775  22.6137  40.4763 ... 113.3028 121.775  115.4228]\n",
      " ...\n",
      " [ 28.5502  36.212   45.0801 ...  24.1359  25.0927  26.0603]\n",
      " [ 38.4352  26.4733  23.2717 ...  28.1094  29.4683  30.0661]\n",
      " [ 50.2984  26.0773  24.0389 ...  49.6682  50.853   53.0377]]\n"
     ]
    }
   ],
   "source": [
    "# Shape and the array of pixels for the first image\n",
    "\n",
    "print(\"Shape:\", X_train[0].shape)\n",
    "\n",
    "print()\n",
    "\n",
    "print(\"First image:\\n\", X_train[0])"
   ]
  },
  {
   "cell_type": "code",
   "execution_count": 56,
   "metadata": {
    "id": "D9YPwf9ysqWU"
   },
   "outputs": [],
   "source": [
    "# Reshaping the dataset to be able to pass them to CNNs. Remember that we always have to give a 4D array as input to CNNs\n",
    "\n",
    "X_train = X_train.reshape(X_train.shape[0], 32, 32, 1)\n",
    "\n",
    "X_test = X_test.reshape(X_test.shape[0], 32, 32, 1)"
   ]
  },
  {
   "cell_type": "code",
   "execution_count": 57,
   "metadata": {
    "id": "q_yUUTp_mUzB"
   },
   "outputs": [],
   "source": [
    "# Normalize inputs from 0-255 to 0-1\n",
    "\n",
    "X_train = X_train / 255.0\n",
    "\n",
    "X_test = X_test / 255.0"
   ]
  },
  {
   "cell_type": "code",
   "execution_count": 58,
   "metadata": {
    "colab": {
     "base_uri": "https://localhost:8080/"
    },
    "id": "t7FSqOpamWkH",
    "outputId": "636f12c8-bffd-448a-ff99-084b3ccc869f"
   },
   "outputs": [
    {
     "name": "stdout",
     "output_type": "stream",
     "text": [
      "Training set: (42000, 32, 32, 1) (42000,)\n",
      "Test set: (18000, 32, 32, 1) (18000,)\n"
     ]
    }
   ],
   "source": [
    "# New shape \n",
    "\n",
    "print('Training set:', X_train.shape, y_train.shape)\n",
    "\n",
    "print('Test set:', X_test.shape, y_test.shape)"
   ]
  },
  {
   "cell_type": "markdown",
   "metadata": {
    "id": "10QaOV-xR7Jn"
   },
   "source": [
    "### **Question 2: One-hot encode the labels in the target variable y_train and y_test. (2 Marks)**"
   ]
  },
  {
   "cell_type": "code",
   "execution_count": 59,
   "metadata": {
    "colab": {
     "base_uri": "https://localhost:8080/"
    },
    "id": "zL0lYER4sqWw",
    "outputId": "5b08fd37-01b8-488b-b50d-daad5588b481"
   },
   "outputs": [
    {
     "data": {
      "text/plain": [
       "array([[0., 1., 0., ..., 0., 0., 0.],\n",
       "       [0., 0., 0., ..., 1., 0., 0.],\n",
       "       [0., 0., 1., ..., 0., 0., 0.],\n",
       "       ...,\n",
       "       [0., 0., 0., ..., 1., 0., 0.],\n",
       "       [0., 0., 0., ..., 0., 0., 1.],\n",
       "       [0., 0., 1., ..., 0., 0., 0.]], dtype=float32)"
      ]
     },
     "execution_count": 59,
     "metadata": {},
     "output_type": "execute_result"
    }
   ],
   "source": [
    "# Write the function and appropriate variable name to one-hot encode the output\n",
    "\n",
    "y_train = to_categorical(y_train)\n",
    "\n",
    "y_test = to_categorical(y_test)\n",
    "\n",
    "# test labels\n",
    "\n",
    "y_test"
   ]
  },
  {
   "cell_type": "markdown",
   "metadata": {
    "id": "ViqPOTquCF76"
   },
   "source": [
    "**Observation:**\n",
    "- Notice that each entry of the target variable is a one-hot encoded vector instead of a single label."
   ]
  },
  {
   "cell_type": "markdown",
   "metadata": {
    "id": "yH-gVrzuByNA"
   },
   "source": [
    "## **Model Building**\n",
    "\n",
    "Now that we have done data preprocessing, let's build a CNN model."
   ]
  },
  {
   "cell_type": "code",
   "execution_count": 60,
   "metadata": {
    "id": "ZY5pyF4-KDNt"
   },
   "outputs": [],
   "source": [
    "# Fixing the seed for random number generators\n",
    "\n",
    "np.random.seed(42)\n",
    "\n",
    "import random\n",
    "\n",
    "random.seed(42)\n",
    "\n",
    "tf.random.set_seed(42)"
   ]
  },
  {
   "cell_type": "markdown",
   "metadata": {
    "id": "UJDUoaEj1d6e"
   },
   "source": [
    "### **Model Architecture**\n",
    "- **Write a function** that returns a sequential model with the following architecture:\n",
    " - First Convolutional layer with **16 filters and the kernel size of 3x3**. Use the **'same' padding** and provide the **input shape = (32, 32, 1)**\n",
    " - Add a **LeakyRelu layer** with the **slope equal to 0.1**\n",
    " - Second Convolutional layer with **32 filters and the kernel size of 3x3 with 'same' padding**\n",
    " - Another **LeakyRelu** with the **slope equal to 0.1**\n",
    " - A **max-pooling layer** with a **pool size of 2x2**\n",
    " - **Flatten** the output from the previous layer\n",
    " - Add a **dense layer with 32 nodes**\n",
    " - Add a **LeakyRelu layer with the slope equal to 0.1**\n",
    " - Add the final **output layer with nodes equal to the number of classes, i.e., 10** and **'softmax' as the activation function**\n",
    " - Compile the model with the **loss equal to categorical_crossentropy, optimizer equal to Adam(learning_rate = 0.001), and metric equal to 'accuracy'**. Do not fit the model here, just return the compiled model.\n",
    "- Call the function cnn_model_1 and store the output in a new variable.\n",
    "- Print the summary of the model.\n",
    "- Fit the model on the training data with a **validation split of 0.2, batch size = 32, verbose = 1, and epochs = 20**. Store the model building history to use later for visualization."
   ]
  },
  {
   "cell_type": "markdown",
   "metadata": {
    "id": "JWsAd45JKDNu"
   },
   "source": [
    "### **Question 3: Build and train a CNN model as per the above mentioned architecture. (10 Marks)**"
   ]
  },
  {
   "cell_type": "code",
   "execution_count": 61,
   "metadata": {
    "id": "Cmi81Gr5sqW-"
   },
   "outputs": [],
   "source": [
    "# Define the model\n",
    "\n",
    "def cnn_model_1():\n",
    "\n",
    "    model = Sequential() \n",
    "    \n",
    "    # Add layers as per the architecture mentioned above in the same sequence\n",
    "\n",
    "    model.add(Conv2D(16, (3, 3), padding=\"same\", input_shape=(32, 32, 1)))\n",
    "\n",
    "    model.add(LeakyReLU(0.1))\n",
    "\n",
    "    model.add(Conv2D(32, (3, 3), padding=\"same\"))\n",
    "\n",
    "    model.add(LeakyReLU(0.1))\n",
    "\n",
    "    model.add(MaxPool2D((2, 2)))\n",
    "\n",
    "    model.add(Flatten())\n",
    "\n",
    "    model.add(Dense(32))\n",
    "\n",
    "    model.add(LeakyReLU(0.1))\n",
    "\n",
    "    model.add(Dense(10, activation='softmax'))\n",
    "    \n",
    "    # Compile the model\n",
    "\n",
    "    model.compile(optimizer=Adam(learning_rate = 0.001) , loss='categorical_crossentropy', metrics=['accuracy'])\n",
    "    \n",
    "    return model"
   ]
  },
  {
   "cell_type": "code",
   "execution_count": 62,
   "metadata": {
    "id": "bGCUI_xsImnH"
   },
   "outputs": [],
   "source": [
    "# Build the model\n",
    "\n",
    "model_1 = cnn_model_1()"
   ]
  },
  {
   "cell_type": "code",
   "execution_count": 63,
   "metadata": {
    "colab": {
     "base_uri": "https://localhost:8080/"
    },
    "id": "ckJsLdmdQadZ",
    "outputId": "f45705e5-8416-4996-a27e-679f4485333b"
   },
   "outputs": [
    {
     "name": "stdout",
     "output_type": "stream",
     "text": [
      "Model: \"sequential_2\"\n",
      "_________________________________________________________________\n",
      " Layer (type)                Output Shape              Param #   \n",
      "=================================================================\n",
      " conv2d_6 (Conv2D)           (None, 32, 32, 16)        160       \n",
      "                                                                 \n",
      " leaky_re_lu_7 (LeakyReLU)   (None, 32, 32, 16)        0         \n",
      "                                                                 \n",
      " conv2d_7 (Conv2D)           (None, 32, 32, 32)        4640      \n",
      "                                                                 \n",
      " leaky_re_lu_8 (LeakyReLU)   (None, 32, 32, 32)        0         \n",
      "                                                                 \n",
      " max_pooling2d_2 (MaxPooling  (None, 16, 16, 32)       0         \n",
      " 2D)                                                             \n",
      "                                                                 \n",
      " flatten_1 (Flatten)         (None, 8192)              0         \n",
      "                                                                 \n",
      " dense_2 (Dense)             (None, 32)                262176    \n",
      "                                                                 \n",
      " leaky_re_lu_9 (LeakyReLU)   (None, 32)                0         \n",
      "                                                                 \n",
      " dense_3 (Dense)             (None, 10)                330       \n",
      "                                                                 \n",
      "=================================================================\n",
      "Total params: 267,306\n",
      "Trainable params: 267,306\n",
      "Non-trainable params: 0\n",
      "_________________________________________________________________\n"
     ]
    }
   ],
   "source": [
    "# Print the model summary\n",
    "\n",
    "model_1.summary()"
   ]
  },
  {
   "cell_type": "code",
   "execution_count": 64,
   "metadata": {
    "colab": {
     "base_uri": "https://localhost:8080/"
    },
    "id": "3Fy3Dif_zcCk",
    "outputId": "836b2e4e-e2ca-46e4-e17d-8d9aa76199ef"
   },
   "outputs": [
    {
     "name": "stdout",
     "output_type": "stream",
     "text": [
      "Epoch 1/20\n",
      "1050/1050 [==============================] - 7s 6ms/step - loss: 1.2005 - accuracy: 0.6026 - val_loss: 0.6320 - val_accuracy: 0.8167\n",
      "Epoch 2/20\n",
      "1050/1050 [==============================] - 5s 4ms/step - loss: 0.5275 - accuracy: 0.8484 - val_loss: 0.5036 - val_accuracy: 0.8575\n",
      "Epoch 3/20\n",
      "1050/1050 [==============================] - 5s 4ms/step - loss: 0.4323 - accuracy: 0.8731 - val_loss: 0.4826 - val_accuracy: 0.8607\n",
      "Epoch 4/20\n",
      "1050/1050 [==============================] - 5s 4ms/step - loss: 0.3763 - accuracy: 0.8896 - val_loss: 0.4467 - val_accuracy: 0.8746\n",
      "Epoch 5/20\n",
      "1050/1050 [==============================] - 5s 4ms/step - loss: 0.3340 - accuracy: 0.9013 - val_loss: 0.4701 - val_accuracy: 0.8675\n",
      "Epoch 6/20\n",
      "1050/1050 [==============================] - 5s 4ms/step - loss: 0.2936 - accuracy: 0.9127 - val_loss: 0.4670 - val_accuracy: 0.8656\n",
      "Epoch 7/20\n",
      "1050/1050 [==============================] - 5s 4ms/step - loss: 0.2658 - accuracy: 0.9195 - val_loss: 0.4377 - val_accuracy: 0.8831\n",
      "Epoch 8/20\n",
      "1050/1050 [==============================] - 4s 4ms/step - loss: 0.2374 - accuracy: 0.9277 - val_loss: 0.4747 - val_accuracy: 0.8711\n",
      "Epoch 9/20\n",
      "1050/1050 [==============================] - 5s 5ms/step - loss: 0.2149 - accuracy: 0.9349 - val_loss: 0.4799 - val_accuracy: 0.8800\n",
      "Epoch 10/20\n",
      "1050/1050 [==============================] - 5s 5ms/step - loss: 0.1903 - accuracy: 0.9414 - val_loss: 0.4923 - val_accuracy: 0.8793\n",
      "Epoch 11/20\n",
      "1050/1050 [==============================] - 4s 4ms/step - loss: 0.1730 - accuracy: 0.9467 - val_loss: 0.5756 - val_accuracy: 0.8655\n",
      "Epoch 12/20\n",
      "1050/1050 [==============================] - 4s 4ms/step - loss: 0.1587 - accuracy: 0.9506 - val_loss: 0.5503 - val_accuracy: 0.8750\n",
      "Epoch 13/20\n",
      "1050/1050 [==============================] - 4s 4ms/step - loss: 0.1414 - accuracy: 0.9556 - val_loss: 0.5688 - val_accuracy: 0.8751\n",
      "Epoch 14/20\n",
      "1050/1050 [==============================] - 4s 4ms/step - loss: 0.1270 - accuracy: 0.9604 - val_loss: 0.6165 - val_accuracy: 0.8719\n",
      "Epoch 15/20\n",
      "1050/1050 [==============================] - 4s 4ms/step - loss: 0.1161 - accuracy: 0.9635 - val_loss: 0.6538 - val_accuracy: 0.8698\n",
      "Epoch 16/20\n",
      "1050/1050 [==============================] - 4s 4ms/step - loss: 0.1054 - accuracy: 0.9670 - val_loss: 0.6866 - val_accuracy: 0.8660\n",
      "Epoch 17/20\n",
      "1050/1050 [==============================] - 4s 4ms/step - loss: 0.0960 - accuracy: 0.9694 - val_loss: 0.7012 - val_accuracy: 0.8750\n",
      "Epoch 18/20\n",
      "1050/1050 [==============================] - 5s 5ms/step - loss: 0.0882 - accuracy: 0.9714 - val_loss: 0.7238 - val_accuracy: 0.8688\n",
      "Epoch 19/20\n",
      "1050/1050 [==============================] - 5s 4ms/step - loss: 0.0757 - accuracy: 0.9757 - val_loss: 0.7855 - val_accuracy: 0.8687\n",
      "Epoch 20/20\n",
      "1050/1050 [==============================] - 4s 4ms/step - loss: 0.0777 - accuracy: 0.9747 - val_loss: 0.8153 - val_accuracy: 0.8664\n"
     ]
    }
   ],
   "source": [
    "# Fit the model\n",
    "\n",
    "history_model_1 = model_1.fit(X_train,\n",
    "                              y_train,\n",
    "                              epochs = 20,\n",
    "                              batch_size= 32,\n",
    "                              validation_split = 0.2,\n",
    "                              verbose =1)"
   ]
  },
  {
   "cell_type": "markdown",
   "metadata": {
    "id": "tKOckG-KPyLg"
   },
   "source": [
    "### **Plotting the validation and training accuracies**"
   ]
  },
  {
   "cell_type": "markdown",
   "metadata": {
    "id": "JPzfIf9kKDNw"
   },
   "source": [
    "### **Question 4: Write your observations on the below plot. (2 Marks)**"
   ]
  },
  {
   "cell_type": "code",
   "execution_count": 65,
   "metadata": {
    "colab": {
     "base_uri": "https://localhost:8080/",
     "height": 497
    },
    "id": "lt77zgGMP4yw",
    "outputId": "7c277bc3-1527-4a05-aaa0-b8ff282f734f"
   },
   "outputs": [
    {
     "data": {
      "image/png": "[encoded data removed]",
      "text/plain": [
       "<Figure size 576x576 with 1 Axes>"
      ]
     },
     "metadata": {
      "needs_background": "light"
     },
     "output_type": "display_data"
    }
   ],
   "source": [
    "# Plotting the accuracies\n",
    "\n",
    "dict_hist = history_model_1.history\n",
    "\n",
    "list_ep = [i for i in range(1, 21)]\n",
    "\n",
    "plt.figure(figsize = (8, 8))\n",
    "\n",
    "plt.plot(list_ep, dict_hist['accuracy'], ls = '--', label = 'accuracy')\n",
    "\n",
    "plt.plot(list_ep, dict_hist['val_accuracy'], ls = '--', label = 'val_accuracy')\n",
    "\n",
    "plt.ylabel('Accuracy')\n",
    "\n",
    "plt.xlabel('Epochs')\n",
    "\n",
    "plt.legend()\n",
    "\n",
    "plt.show()"
   ]
  },
  {
   "cell_type": "markdown",
   "metadata": {
    "id": "pGBbQpLONX7k"
   },
   "source": [
    "**Observations:\n",
    "- We can see that accuracy keeps increasing for the test data as the number of epochs increased but validation accuracy is relativity constant around 85 percent of accuracy.\n",
    "- This indicates that the model learns the training data more closely after each epoch but cannot replicate the performance on the validation data, which is a sign of overfitting."
   ]
  },
  {
   "cell_type": "markdown",
   "metadata": {
    "id": "z0qgLMBZm5-K"
   },
   "source": [
    "Let's build another model and see if we can get a better model with generalized performance.\n",
    "\n",
    "First, we need to clear the previous model's history from the Keras backend. Also, let's fix the seed again after clearing the backend."
   ]
  },
  {
   "cell_type": "code",
   "execution_count": 66,
   "metadata": {
    "id": "y98BpLxsok_H"
   },
   "outputs": [],
   "source": [
    "# Clearing backend\n",
    "\n",
    "from tensorflow.keras import backend\n",
    "\n",
    "backend.clear_session()"
   ]
  },
  {
   "cell_type": "code",
   "execution_count": 67,
   "metadata": {
    "id": "HbKi93HTolGW"
   },
   "outputs": [],
   "source": [
    "# Fixing the seed for random number generators\n",
    "\n",
    "np.random.seed(42)\n",
    "\n",
    "import random\n",
    "\n",
    "random.seed(42)\n",
    "\n",
    "tf.random.set_seed(42)"
   ]
  },
  {
   "cell_type": "markdown",
   "metadata": {
    "id": "lT6o3TIKuCtk"
   },
   "source": [
    "### **Second Model Architecture**\n",
    "\n",
    "- Write a function that returns a sequential model with the following architecture:\n",
    " - First Convolutional layer with **16 filters and the kernel size of 3x3**. Use the **'same' padding** and provide the **input shape = (32, 32, 1)**\n",
    " - Add a **LeakyRelu layer** with the **slope equal to 0.1**\n",
    " - Second Convolutional layer with **32 filters and the kernel size of 3x3 with 'same' padding**\n",
    " - Add **LeakyRelu** with the **slope equal to 0.1**\n",
    " - Add a **max-pooling layer** with a **pool size of 2x2**\n",
    " - Add a **BatchNormalization layer**\n",
    " - Third Convolutional layer with **32 filters and the kernel size of 3x3 with 'same' padding**\n",
    " - Add a **LeakyRelu layer with the slope equal to 0.1**\n",
    " - Fourth Convolutional layer **64 filters and the kernel size of 3x3 with 'same' padding** \n",
    " - Add a **LeakyRelu layer with the slope equal to 0.1**\n",
    " - Add a **max-pooling layer** with a **pool size of 2x2**\n",
    " - Add a **BatchNormalization layer**\n",
    " - **Flatten** the output from the previous layer\n",
    " - Add a **dense layer with 32 nodes**\n",
    " - Add a **LeakyRelu layer with the slope equal to 0.1**\n",
    " - Add a **dropout layer with the rate equal to 0.5**\n",
    " - Add the final **output layer with nodes equal to the number of classes, i.e., 10** and **'softmax' as the activation function**\n",
    " - Compile the model with the **categorical_crossentropy loss, adam optimizers (learning_rate = 0.001), and metric equal to 'accuracy'**. Do not fit the model here, just return the compiled model.\n",
    "- Call the function cnn_model_2 and store the model in a new variable.\n",
    "- Print the summary of the model.\n",
    "- Fit the model on the train data with a **validation split of 0.2, batch size = 128, verbose = 1, and epochs = 30**. Store the model building history to use later for visualization."
   ]
  },
  {
   "cell_type": "markdown",
   "metadata": {
    "id": "y5IBLS1eKDNy"
   },
   "source": [
    "### **Question 5: Build and train the second CNN model as per the above mentioned architecture. (10 Marks)**"
   ]
  },
  {
   "cell_type": "code",
   "execution_count": 68,
   "metadata": {
    "id": "EEPYLFIPnSDP"
   },
   "outputs": [],
   "source": [
    "# Define the model\n",
    "\n",
    "def cnn_model_2():\n",
    "    \n",
    "    model = Sequential()\n",
    "    \n",
    "    # Add layers as per the architecture mentioned above in the same sequence\n",
    "\n",
    "    model.add(Conv2D(16, (3, 3), padding=\"same\", input_shape=(32, 32, 1)))\n",
    "\n",
    "    model.add(LeakyReLU(0.1))\n",
    "\n",
    "    model.add(Conv2D(32, (3, 3), padding=\"same\"))\n",
    "\n",
    "    model.add(LeakyReLU(0.1))\n",
    "\n",
    "    model.add(MaxPool2D((2, 2)))\n",
    "\n",
    "    model.add(BatchNormalization())\n",
    "\n",
    "    model.add(Conv2D(32, (3, 3), padding=\"same\"))\n",
    "\n",
    "    model.add(LeakyReLU(0.1))\n",
    "\n",
    "    model.add(Conv2D(64, (3, 3), padding=\"same\"))\n",
    "\n",
    "    model.add(LeakyReLU(0.1))\n",
    "\n",
    "    model.add(MaxPool2D((2, 2)))\n",
    "\n",
    "    model.add(BatchNormalization())\n",
    "\n",
    "    model.add(Flatten())\n",
    "\n",
    "    model.add(Dense(32))\n",
    "\n",
    "    model.add(LeakyReLU(0.1))\n",
    "\n",
    "    model.add(Dropout(0.5))\n",
    "\n",
    "    model.add(Dense(10, activation='softmax'))\n",
    "\n",
    "    # Compile the model\n",
    "\n",
    "    model.compile(optimizer=Adam(learning_rate = 0.001) , loss='categorical_crossentropy', metrics=['accuracy'])\n",
    "    \n",
    "    return model"
   ]
  },
  {
   "cell_type": "code",
   "execution_count": 69,
   "metadata": {
    "id": "AKjDY4plnSFl"
   },
   "outputs": [],
   "source": [
    "# Build the model\n",
    "\n",
    "model_2 = cnn_model_2()"
   ]
  },
  {
   "cell_type": "code",
   "execution_count": 70,
   "metadata": {
    "colab": {
     "base_uri": "https://localhost:8080/"
    },
    "id": "gz_6SVrU2swZ",
    "outputId": "b4a68375-8018-4a9a-d5d7-efc65641bd59"
   },
   "outputs": [
    {
     "name": "stdout",
     "output_type": "stream",
     "text": [
      "Model: \"sequential\"\n",
      "_________________________________________________________________\n",
      " Layer (type)                Output Shape              Param #   \n",
      "=================================================================\n",
      " conv2d (Conv2D)             (None, 32, 32, 16)        160       \n",
      "                                                                 \n",
      " leaky_re_lu (LeakyReLU)     (None, 32, 32, 16)        0         \n",
      "                                                                 \n",
      " conv2d_1 (Conv2D)           (None, 32, 32, 32)        4640      \n",
      "                                                                 \n",
      " leaky_re_lu_1 (LeakyReLU)   (None, 32, 32, 32)        0         \n",
      "                                                                 \n",
      " max_pooling2d (MaxPooling2D  (None, 16, 16, 32)       0         \n",
      " )                                                               \n",
      "                                                                 \n",
      " batch_normalization (BatchN  (None, 16, 16, 32)       128       \n",
      " ormalization)                                                   \n",
      "                                                                 \n",
      " conv2d_2 (Conv2D)           (None, 16, 16, 32)        9248      \n",
      "                                                                 \n",
      " leaky_re_lu_2 (LeakyReLU)   (None, 16, 16, 32)        0         \n",
      "                                                                 \n",
      " conv2d_3 (Conv2D)           (None, 16, 16, 64)        18496     \n",
      "                                                                 \n",
      " leaky_re_lu_3 (LeakyReLU)   (None, 16, 16, 64)        0         \n",
      "                                                                 \n",
      " max_pooling2d_1 (MaxPooling  (None, 8, 8, 64)         0         \n",
      " 2D)                                                             \n",
      "                                                                 \n",
      " batch_normalization_1 (Batc  (None, 8, 8, 64)         256       \n",
      " hNormalization)                                                 \n",
      "                                                                 \n",
      " flatten (Flatten)           (None, 4096)              0         \n",
      "                                                                 \n",
      " dense (Dense)               (None, 32)                131104    \n",
      "                                                                 \n",
      " leaky_re_lu_4 (LeakyReLU)   (None, 32)                0         \n",
      "                                                                 \n",
      " dropout (Dropout)           (None, 32)                0         \n",
      "                                                                 \n",
      " dense_1 (Dense)             (None, 10)                330       \n",
      "                                                                 \n",
      "=================================================================\n",
      "Total params: 164,362\n",
      "Trainable params: 164,170\n",
      "Non-trainable params: 192\n",
      "_________________________________________________________________\n"
     ]
    }
   ],
   "source": [
    "# Print the summary\n",
    "\n",
    "model_2.summary()"
   ]
  },
  {
   "cell_type": "code",
   "execution_count": 71,
   "metadata": {
    "colab": {
     "base_uri": "https://localhost:8080/"
    },
    "id": "IQ0Sc4R-y-uu",
    "outputId": "ba3b552f-fdc8-410d-dbff-f77feca7ecae"
   },
   "outputs": [
    {
     "name": "stdout",
     "output_type": "stream",
     "text": [
      "Epoch 1/30\n",
      "263/263 [==============================] - 4s 11ms/step - loss: 1.4640 - accuracy: 0.5009 - val_loss: 2.8800 - val_accuracy: 0.2040\n",
      "Epoch 2/30\n",
      "263/263 [==============================] - 3s 10ms/step - loss: 0.6961 - accuracy: 0.7836 - val_loss: 0.9246 - val_accuracy: 0.6874\n",
      "Epoch 3/30\n",
      "263/263 [==============================] - 3s 10ms/step - loss: 0.5612 - accuracy: 0.8289 - val_loss: 0.4623 - val_accuracy: 0.8649\n",
      "Epoch 4/30\n",
      "263/263 [==============================] - 3s 10ms/step - loss: 0.5014 - accuracy: 0.8471 - val_loss: 0.4935 - val_accuracy: 0.8545\n",
      "Epoch 5/30\n",
      "263/263 [==============================] - 3s 10ms/step - loss: 0.4527 - accuracy: 0.8638 - val_loss: 0.4378 - val_accuracy: 0.8755\n",
      "Epoch 6/30\n",
      "263/263 [==============================] - 3s 10ms/step - loss: 0.4138 - accuracy: 0.8742 - val_loss: 0.4803 - val_accuracy: 0.8623\n",
      "Epoch 7/30\n",
      "263/263 [==============================] - 3s 12ms/step - loss: 0.3815 - accuracy: 0.8825 - val_loss: 0.3892 - val_accuracy: 0.8894\n",
      "Epoch 8/30\n",
      "263/263 [==============================] - 3s 10ms/step - loss: 0.3630 - accuracy: 0.8880 - val_loss: 0.3732 - val_accuracy: 0.8962\n",
      "Epoch 9/30\n",
      "263/263 [==============================] - 3s 10ms/step - loss: 0.3366 - accuracy: 0.8959 - val_loss: 0.4014 - val_accuracy: 0.8855\n",
      "Epoch 10/30\n",
      "263/263 [==============================] - 3s 10ms/step - loss: 0.3141 - accuracy: 0.9026 - val_loss: 0.3462 - val_accuracy: 0.9102\n",
      "Epoch 11/30\n",
      "263/263 [==============================] - 3s 10ms/step - loss: 0.3018 - accuracy: 0.9054 - val_loss: 0.3730 - val_accuracy: 0.8986\n",
      "Epoch 12/30\n",
      "263/263 [==============================] - 3s 10ms/step - loss: 0.2806 - accuracy: 0.9112 - val_loss: 0.4210 - val_accuracy: 0.8944\n",
      "Epoch 13/30\n",
      "263/263 [==============================] - 3s 10ms/step - loss: 0.2689 - accuracy: 0.9154 - val_loss: 0.4167 - val_accuracy: 0.8992\n",
      "Epoch 14/30\n",
      "263/263 [==============================] - 3s 10ms/step - loss: 0.2590 - accuracy: 0.9175 - val_loss: 0.3969 - val_accuracy: 0.9007\n",
      "Epoch 15/30\n",
      "263/263 [==============================] - 3s 10ms/step - loss: 0.2466 - accuracy: 0.9225 - val_loss: 0.3910 - val_accuracy: 0.9027\n",
      "Epoch 16/30\n",
      "263/263 [==============================] - 3s 10ms/step - loss: 0.2402 - accuracy: 0.9230 - val_loss: 0.3602 - val_accuracy: 0.9135\n",
      "Epoch 17/30\n",
      "263/263 [==============================] - 3s 10ms/step - loss: 0.2305 - accuracy: 0.9254 - val_loss: 0.3509 - val_accuracy: 0.9125\n",
      "Epoch 18/30\n",
      "263/263 [==============================] - 3s 10ms/step - loss: 0.2159 - accuracy: 0.9287 - val_loss: 0.3629 - val_accuracy: 0.9067\n",
      "Epoch 19/30\n",
      "263/263 [==============================] - 3s 10ms/step - loss: 0.2169 - accuracy: 0.9288 - val_loss: 0.4299 - val_accuracy: 0.9033\n",
      "Epoch 20/30\n",
      "263/263 [==============================] - 3s 10ms/step - loss: 0.2023 - accuracy: 0.9344 - val_loss: 0.4056 - val_accuracy: 0.9070\n",
      "Epoch 21/30\n",
      "263/263 [==============================] - 3s 10ms/step - loss: 0.1934 - accuracy: 0.9362 - val_loss: 0.3813 - val_accuracy: 0.9095\n",
      "Epoch 22/30\n",
      "263/263 [==============================] - 3s 12ms/step - loss: 0.1832 - accuracy: 0.9394 - val_loss: 0.4774 - val_accuracy: 0.8938\n",
      "Epoch 23/30\n",
      "263/263 [==============================] - 3s 11ms/step - loss: 0.1826 - accuracy: 0.9393 - val_loss: 0.3897 - val_accuracy: 0.9127\n",
      "Epoch 24/30\n",
      "263/263 [==============================] - 3s 10ms/step - loss: 0.1787 - accuracy: 0.9411 - val_loss: 0.4927 - val_accuracy: 0.8894\n",
      "Epoch 25/30\n",
      "263/263 [==============================] - 3s 10ms/step - loss: 0.1693 - accuracy: 0.9436 - val_loss: 0.4470 - val_accuracy: 0.9117\n",
      "Epoch 26/30\n",
      "263/263 [==============================] - 3s 10ms/step - loss: 0.1707 - accuracy: 0.9438 - val_loss: 0.4010 - val_accuracy: 0.9126\n",
      "Epoch 27/30\n",
      "263/263 [==============================] - 3s 10ms/step - loss: 0.1613 - accuracy: 0.9466 - val_loss: 0.4717 - val_accuracy: 0.9027\n",
      "Epoch 28/30\n",
      "263/263 [==============================] - 3s 10ms/step - loss: 0.1583 - accuracy: 0.9465 - val_loss: 0.4228 - val_accuracy: 0.9148\n",
      "Epoch 29/30\n",
      "263/263 [==============================] - 3s 10ms/step - loss: 0.1477 - accuracy: 0.9507 - val_loss: 0.4641 - val_accuracy: 0.9145\n",
      "Epoch 30/30\n",
      "263/263 [==============================] - 3s 10ms/step - loss: 0.1534 - accuracy: 0.9487 - val_loss: 0.4487 - val_accuracy: 0.9149\n"
     ]
    }
   ],
   "source": [
    "# Fit the model\n",
    "\n",
    "history_model_2 = model_2.fit(X_train,\n",
    "                              y_train,\n",
    "                              epochs = 30,\n",
    "                              batch_size= 128,\n",
    "                              validation_split = 0.2,\n",
    "                              verbose =1)"
   ]
  },
  {
   "cell_type": "markdown",
   "metadata": {
    "id": "zKCdy59GKDN1"
   },
   "source": [
    "### **Plotting the validation and training accuracies**"
   ]
  },
  {
   "cell_type": "markdown",
   "metadata": {
    "id": "PyhUtMy3KDN1"
   },
   "source": [
    "### **Question 6: Write your observations on the below plot. (2 Marks)**"
   ]
  },
  {
   "cell_type": "code",
   "execution_count": 72,
   "metadata": {
    "colab": {
     "base_uri": "https://localhost:8080/",
     "height": 497
    },
    "id": "01ig6BrF1KVy",
    "outputId": "609d75ee-d509-48b8-f5e2-9fcd3bc2b315"
   },
   "outputs": [
    {
     "data": {
      "image/png": "[encoded data removed]",
      "text/plain": [
       "<Figure size 576x576 with 1 Axes>"
      ]
     },
     "metadata": {
      "needs_background": "light"
     },
     "output_type": "display_data"
    }
   ],
   "source": [
    "# Plotting the accuracies\n",
    "\n",
    "dict_hist = history_model_2.history\n",
    "\n",
    "list_ep = [i for i in range(1, 31)]\n",
    "\n",
    "plt.figure(figsize = (8, 8))\n",
    "\n",
    "plt.plot(list_ep, dict_hist['accuracy'], ls = '--', label = 'accuracy')\n",
    "\n",
    "plt.plot(list_ep, dict_hist['val_accuracy'], ls = '--', label = 'val_accuracy')\n",
    "\n",
    "plt.ylabel('Accuracy')\n",
    "\n",
    "plt.xlabel('Epochs')\n",
    "\n",
    "plt.legend()\n",
    "\n",
    "plt.show()"
   ]
  },
  {
   "cell_type": "markdown",
   "metadata": {
    "id": "VPW1LlD61RDn"
   },
   "source": [
    "**Observations:\n",
    "- The graph shows similar behaviors in the training and validation curves, showing a slight variation between them.\n",
    "\n",
    "- A stabilization of both curves around 90 percent of accuaracy is observed.\n",
    "\n",
    "- We can see from the above plot that the model has perfomed well on the train and validation data."
   ]
  },
  {
   "cell_type": "markdown",
   "metadata": {
    "id": "8kuXx9Bvu00f"
   },
   "source": [
    "## **Predictions on the test data**\n",
    "\n",
    "- Make predictions on the test set using the second model.\n",
    "- Print the obtained results using the classification report and the confusion matrix.\n",
    "- Final observations on the obtained results."
   ]
  },
  {
   "cell_type": "markdown",
   "metadata": {
    "id": "eHCRwRbgKDN2"
   },
   "source": [
    "### **Question 7: Make predictions on the test data using the second model. (1 Mark)** "
   ]
  },
  {
   "cell_type": "code",
   "execution_count": 73,
   "metadata": {
    "colab": {
     "base_uri": "https://localhost:8080/"
    },
    "id": "xbWMEtTj5Ad0",
    "outputId": "4b42e0f8-7943-47bc-dbfb-fc745434be9a"
   },
   "outputs": [
    {
     "name": "stdout",
     "output_type": "stream",
     "text": [
      "563/563 [==============================] - 1s 2ms/step\n"
     ]
    }
   ],
   "source": [
    "# Make prediction on the test data using model_2 \n",
    "\n",
    "test_pred = model_2.predict(X_test)\n",
    "\n",
    "test_pred = np.argmax(test_pred, axis = -1)"
   ]
  },
  {
   "cell_type": "markdown",
   "metadata": {
    "id": "i3li8Ib08yts"
   },
   "source": [
    "**Note:** Earlier, we noticed that each entry of the target variable is a one-hot encoded vector, but to print the classification report and confusion matrix, we must convert each entry of y_test to a single label."
   ]
  },
  {
   "cell_type": "code",
   "execution_count": 74,
   "metadata": {
    "id": "NByu7uAQ8x9P"
   },
   "outputs": [],
   "source": [
    "# Converting each entry to single label from one-hot encoded vector\n",
    "\n",
    "y_test = np.argmax(y_test, axis = -1)"
   ]
  },
  {
   "cell_type": "markdown",
   "metadata": {
    "id": "aVCa-ysWKDN3"
   },
   "source": [
    "### **Question 8: Write your final observations on the performance of the model on the test data. (2 Marks)**"
   ]
  },
  {
   "cell_type": "code",
   "execution_count": 75,
   "metadata": {
    "colab": {
     "base_uri": "https://localhost:8080/",
     "height": 648
    },
    "id": "xRddeJ-3EHT1",
    "outputId": "1b4433b5-7cf1-40fc-a6a9-8642a575c29a"
   },
   "outputs": [
    {
     "name": "stdout",
     "output_type": "stream",
     "text": [
      "              precision    recall  f1-score   support\n",
      "\n",
      "           0       0.91      0.95      0.93      1814\n",
      "           1       0.89      0.92      0.91      1828\n",
      "           2       0.93      0.92      0.92      1803\n",
      "           3       0.92      0.87      0.89      1719\n",
      "           4       0.94      0.92      0.93      1812\n",
      "           5       0.90      0.91      0.91      1768\n",
      "           6       0.88      0.91      0.90      1832\n",
      "           7       0.96      0.92      0.94      1808\n",
      "           8       0.88      0.90      0.89      1812\n",
      "           9       0.91      0.89      0.90      1804\n",
      "\n",
      "    accuracy                           0.91     18000\n",
      "   macro avg       0.91      0.91      0.91     18000\n",
      "weighted avg       0.91      0.91      0.91     18000\n",
      "\n"
     ]
    },
    {
     "data": {
      "image/png": "[encoded data removed]",
      "text/plain": [
       "<Figure size 576x360 with 2 Axes>"
      ]
     },
     "metadata": {
      "needs_background": "light"
     },
     "output_type": "display_data"
    }
   ],
   "source": [
    "# Importing required functions\n",
    "\n",
    "from sklearn.metrics import classification_report\n",
    "\n",
    "from sklearn.metrics import confusion_matrix\n",
    "\n",
    "# Printing the classification report\n",
    "\n",
    "print(classification_report(y_test, test_pred))\n",
    "\n",
    "# Plotting the heatmap using confusion matrix\n",
    "\n",
    "cm = confusion_matrix(y_test, test_pred)\n",
    "\n",
    "plt.figure(figsize = (8, 5))\n",
    "\n",
    "sns.heatmap(cm, annot = True,  fmt = '.0f')\n",
    "\n",
    "plt.ylabel('Actual')\n",
    "\n",
    "plt.xlabel('Predicted')\n",
    "\n",
    "plt.show()"
   ]
  },
  {
   "cell_type": "markdown",
   "metadata": {
    "id": "DjErl4GA2u9s"
   },
   "source": [
    "**Final Observations:\n",
    "- 63 false positives and 44 false negatives corresponding to number 5 when trying to predict the number 3 can be observed in the confusion matrix . This indicates that the model presents some difficulty in predicting number 3 by confounding it with number 5.This is reflected in the f1-score value for number 3 equal to 0.89 which is one of the lowest. \n",
    "- The model has become even better at identifying the number 7. It has an f1-score of 94%.\n",
    "- The overall accuracy on the test data is 91%, which is approximately the same as the validation accuracy.\n",
    "- 71 false positives corresponding to number 6 and 47 false positives corresponding to number 3 when trying to predict the number 8 can be observed in the confusion matrix . This indicates that the model presents some difficulty in predicting number 8 by confounding it with number 6 and 3.This is reflected in the f1-score value for number 8 equal to 0.89 which is one of the lowest.\n"
   ]
  }
 ],
 "metadata": {
  "accelerator": "GPU",
  "colab": {
   "provenance": []
  },
  "kernelspec": {
   "display_name": "Python 3 (ipykernel)",
   "language": "python",
   "name": "python3"
  },
  "language_info": {
   "codemirror_mode": {
    "name": "ipython",
    "version": 3
   },
   "file_extension": ".py",
   "mimetype": "text/x-python",
   "name": "python",
   "nbconvert_exporter": "python",
   "pygments_lexer": "ipython3",
   "version": "3.9.12"
  },
  "vscode": {
   "interpreter": {
    "hash": "6de1e91cf1244bfb3dd12093cd4d082eb720781624c3050692ebb29fab67d41a"
   }
  }
 },
 "nbformat": 4,
 "nbformat_minor": 1
}
